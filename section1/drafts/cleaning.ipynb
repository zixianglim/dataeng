{
 "cells": [
  {
   "cell_type": "code",
   "execution_count": 4,
   "metadata": {},
   "outputs": [],
   "source": [
    "import pandas as pd\n",
    "from dateutil.parser import parse\n",
    "import hashlib\n",
    "import string\n",
    "import re\n",
    "import os"
   ]
  },
  {
   "cell_type": "code",
   "execution_count": 6,
   "metadata": {},
   "outputs": [],
   "source": [
    "df = pd.read_csv('/Users/zixiang/Documents/tap_de23/section1/raw_datasets/dataset_1_9c7f5_20230805_01hour.csv')"
   ]
  },
  {
   "cell_type": "code",
   "execution_count": 7,
   "metadata": {},
   "outputs": [],
   "source": [
    "df = df.dropna(subset=['applicant_name'], how='all', inplace=False)\n",
    "df = df[df['applicant_name'].str.strip() != '']"
   ]
  },
  {
   "cell_type": "code",
   "execution_count": 8,
   "metadata": {},
   "outputs": [],
   "source": [
    "salutations = ['Mr.', 'Mrs.', 'Ms.', 'Dr.', 'Miss.', 'Sir.', 'Madam.', 'Prof.', 'Rev.']\n",
    "\n",
    "def remove_salutations(name):\n",
    "    for salutation in salutations:\n",
    "        name = name.replace(salutation, '')\n",
    "    return name.strip()\n",
    "\n",
    "df.loc[:, 'applicant_name'] = df['applicant_name'].apply(remove_salutations)\n",
    "\n",
    "name_split = df['applicant_name'].str.split(n=1, expand=True)\n",
    "trans = str.maketrans('', '', string.punctuation + ' ')\n",
    "df.loc[:, 'first_name'] = name_split[0]\n",
    "df.loc[:, 'last_name'] = name_split[1].apply(lambda x: x.translate(trans))"
   ]
  },
  {
   "cell_type": "code",
   "execution_count": 9,
   "metadata": {},
   "outputs": [],
   "source": [
    "df = df[pd.to_numeric(df['applicant_mobile'], errors='coerce').notnull()]\n",
    "df = df[df['applicant_mobile'].astype(str).str.len() == 8]"
   ]
  },
  {
   "cell_type": "code",
   "execution_count": 10,
   "metadata": {},
   "outputs": [],
   "source": [
    "df = df[df['applicant_email'].str.endswith(('.com', '.net'))]"
   ]
  },
  {
   "cell_type": "code",
   "execution_count": 11,
   "metadata": {},
   "outputs": [],
   "source": [
    "def format_date(date_str):\n",
    "    try:\n",
    "        date_obj = parse(date_str)\n",
    "        return date_obj.strftime('%Y%m%d')\n",
    "    except:\n",
    "        return None\n",
    "\n",
    "df.loc[:,'applicant_dob'] = df['applicant_dob'].apply(format_date)\n",
    "df.loc[:,'date_of_birth'] = df['applicant_dob'].apply(format_date)\n",
    "df = df.dropna(subset=['applicant_dob'], how='all', inplace=False)"
   ]
  },
  {
   "cell_type": "code",
   "execution_count": 12,
   "metadata": {},
   "outputs": [],
   "source": [
    "df['applicant_dob'] = pd.to_datetime(df['applicant_dob'])\n",
    "df['age'] = (pd.Timestamp.now() - df['applicant_dob']).dt.days//365\n",
    "df['above_18'] = df['age'] >= 18"
   ]
  },
  {
   "cell_type": "code",
   "execution_count": 13,
   "metadata": {},
   "outputs": [
    {
     "data": {
      "text/html": [
       "<div>\n",
       "<style scoped>\n",
       "    .dataframe tbody tr th:only-of-type {\n",
       "        vertical-align: middle;\n",
       "    }\n",
       "\n",
       "    .dataframe tbody tr th {\n",
       "        vertical-align: top;\n",
       "    }\n",
       "\n",
       "    .dataframe thead th {\n",
       "        text-align: right;\n",
       "    }\n",
       "</style>\n",
       "<table border=\"1\" class=\"dataframe\">\n",
       "  <thead>\n",
       "    <tr style=\"text-align: right;\">\n",
       "      <th></th>\n",
       "      <th>applicant_name</th>\n",
       "      <th>applicant_email</th>\n",
       "      <th>applicant_mobile</th>\n",
       "      <th>applicant_dob</th>\n",
       "      <th>first_name</th>\n",
       "      <th>last_name</th>\n",
       "      <th>date_of_birth</th>\n",
       "      <th>age</th>\n",
       "      <th>above_18</th>\n",
       "    </tr>\n",
       "  </thead>\n",
       "  <tbody>\n",
       "    <tr>\n",
       "      <th>0</th>\n",
       "      <td>Danielle Daniels</td>\n",
       "      <td>DanielleDaniels@houston.com</td>\n",
       "      <td>23386434</td>\n",
       "      <td>1973-01-10</td>\n",
       "      <td>Danielle</td>\n",
       "      <td>Daniels</td>\n",
       "      <td>19730110</td>\n",
       "      <td>50</td>\n",
       "      <td>True</td>\n",
       "    </tr>\n",
       "    <tr>\n",
       "      <th>3</th>\n",
       "      <td>Evelyn Ware Jr.</td>\n",
       "      <td>EvelynWare@west-price.com</td>\n",
       "      <td>42435202</td>\n",
       "      <td>1972-12-23</td>\n",
       "      <td>Evelyn</td>\n",
       "      <td>WareJr</td>\n",
       "      <td>19721223</td>\n",
       "      <td>50</td>\n",
       "      <td>True</td>\n",
       "    </tr>\n",
       "    <tr>\n",
       "      <th>4</th>\n",
       "      <td>Matthew Clark PhD</td>\n",
       "      <td>MatthewClark@gardner-dickerson.com</td>\n",
       "      <td>23172514</td>\n",
       "      <td>2023-05-23</td>\n",
       "      <td>Matthew</td>\n",
       "      <td>ClarkPhD</td>\n",
       "      <td>20230523</td>\n",
       "      <td>0</td>\n",
       "      <td>False</td>\n",
       "    </tr>\n",
       "    <tr>\n",
       "      <th>5</th>\n",
       "      <td>Autumn Johnson</td>\n",
       "      <td>AutumnJohnson10@houston.com</td>\n",
       "      <td>56281039</td>\n",
       "      <td>1974-01-16</td>\n",
       "      <td>Autumn</td>\n",
       "      <td>Johnson</td>\n",
       "      <td>19740116</td>\n",
       "      <td>49</td>\n",
       "      <td>True</td>\n",
       "    </tr>\n",
       "    <tr>\n",
       "      <th>6</th>\n",
       "      <td>Jennifer Miller</td>\n",
       "      <td>JenniferMiller30@brown-greene.com</td>\n",
       "      <td>79733291</td>\n",
       "      <td>1988-08-14</td>\n",
       "      <td>Jennifer</td>\n",
       "      <td>Miller</td>\n",
       "      <td>19880814</td>\n",
       "      <td>34</td>\n",
       "      <td>True</td>\n",
       "    </tr>\n",
       "  </tbody>\n",
       "</table>\n",
       "</div>"
      ],
      "text/plain": [
       "      applicant_name                     applicant_email  applicant_mobile  \\\n",
       "0   Danielle Daniels         DanielleDaniels@houston.com          23386434   \n",
       "3    Evelyn Ware Jr.           EvelynWare@west-price.com          42435202   \n",
       "4  Matthew Clark PhD  MatthewClark@gardner-dickerson.com          23172514   \n",
       "5     Autumn Johnson         AutumnJohnson10@houston.com          56281039   \n",
       "6    Jennifer Miller   JenniferMiller30@brown-greene.com          79733291   \n",
       "\n",
       "  applicant_dob first_name last_name date_of_birth  age  above_18  \n",
       "0    1973-01-10   Danielle   Daniels      19730110   50      True  \n",
       "3    1972-12-23     Evelyn    WareJr      19721223   50      True  \n",
       "4    2023-05-23    Matthew  ClarkPhD      20230523    0     False  \n",
       "5    1974-01-16     Autumn   Johnson      19740116   49      True  \n",
       "6    1988-08-14   Jennifer    Miller      19880814   34      True  "
      ]
     },
     "execution_count": 13,
     "metadata": {},
     "output_type": "execute_result"
    }
   ],
   "source": [
    "df.head()"
   ]
  },
  {
   "cell_type": "code",
   "execution_count": 136,
   "metadata": {},
   "outputs": [],
   "source": [
    "successful_df = df[df['above_18']]\n",
    "successful_df = successful_df[['first_name','last_name','date_of_birth','above_18']]"
   ]
  },
  {
   "cell_type": "code",
   "execution_count": 138,
   "metadata": {},
   "outputs": [],
   "source": [
    "successful_df.loc[:,'Membership_ID'] = (successful_df['last_name'] + '_' + successful_df['date_of_birth'].apply(lambda dob: hashlib.sha256(dob.encode()).hexdigest()[:5]))"
   ]
  },
  {
   "cell_type": "code",
   "execution_count": 139,
   "metadata": {},
   "outputs": [
    {
     "data": {
      "text/html": [
       "<div>\n",
       "<style scoped>\n",
       "    .dataframe tbody tr th:only-of-type {\n",
       "        vertical-align: middle;\n",
       "    }\n",
       "\n",
       "    .dataframe tbody tr th {\n",
       "        vertical-align: top;\n",
       "    }\n",
       "\n",
       "    .dataframe thead th {\n",
       "        text-align: right;\n",
       "    }\n",
       "</style>\n",
       "<table border=\"1\" class=\"dataframe\">\n",
       "  <thead>\n",
       "    <tr style=\"text-align: right;\">\n",
       "      <th></th>\n",
       "      <th>first_name</th>\n",
       "      <th>last_name</th>\n",
       "      <th>date_of_birth</th>\n",
       "      <th>above_18</th>\n",
       "      <th>Membership_ID</th>\n",
       "    </tr>\n",
       "  </thead>\n",
       "  <tbody>\n",
       "    <tr>\n",
       "      <th>0</th>\n",
       "      <td>Danielle</td>\n",
       "      <td>Daniels</td>\n",
       "      <td>19730110</td>\n",
       "      <td>True</td>\n",
       "      <td>Daniels_7a512</td>\n",
       "    </tr>\n",
       "    <tr>\n",
       "      <th>3</th>\n",
       "      <td>Evelyn</td>\n",
       "      <td>WareJr</td>\n",
       "      <td>19721223</td>\n",
       "      <td>True</td>\n",
       "      <td>WareJr_da04e</td>\n",
       "    </tr>\n",
       "    <tr>\n",
       "      <th>5</th>\n",
       "      <td>Autumn</td>\n",
       "      <td>Johnson</td>\n",
       "      <td>19740116</td>\n",
       "      <td>True</td>\n",
       "      <td>Johnson_18122</td>\n",
       "    </tr>\n",
       "    <tr>\n",
       "      <th>6</th>\n",
       "      <td>Jennifer</td>\n",
       "      <td>Miller</td>\n",
       "      <td>19880814</td>\n",
       "      <td>True</td>\n",
       "      <td>Miller_8e3b0</td>\n",
       "    </tr>\n",
       "    <tr>\n",
       "      <th>8</th>\n",
       "      <td>Douglas</td>\n",
       "      <td>Franklin</td>\n",
       "      <td>19930824</td>\n",
       "      <td>True</td>\n",
       "      <td>Franklin_fd630</td>\n",
       "    </tr>\n",
       "  </tbody>\n",
       "</table>\n",
       "</div>"
      ],
      "text/plain": [
       "  first_name last_name date_of_birth  above_18   Membership_ID\n",
       "0   Danielle   Daniels      19730110      True   Daniels_7a512\n",
       "3     Evelyn    WareJr      19721223      True    WareJr_da04e\n",
       "5     Autumn   Johnson      19740116      True   Johnson_18122\n",
       "6   Jennifer    Miller      19880814      True    Miller_8e3b0\n",
       "8    Douglas  Franklin      19930824      True  Franklin_fd630"
      ]
     },
     "execution_count": 139,
     "metadata": {},
     "output_type": "execute_result"
    }
   ],
   "source": [
    "successful_df.head()"
   ]
  },
  {
   "cell_type": "code",
   "execution_count": 140,
   "metadata": {},
   "outputs": [
    {
     "data": {
      "text/plain": [
       "130"
      ]
     },
     "execution_count": 140,
     "metadata": {},
     "output_type": "execute_result"
    }
   ],
   "source": [
    "len(successful_df)"
   ]
  }
 ],
 "metadata": {
  "kernelspec": {
   "display_name": "Python 3.9.16 64-bit ('myenv')",
   "language": "python",
   "name": "python3"
  },
  "language_info": {
   "codemirror_mode": {
    "name": "ipython",
    "version": 3
   },
   "file_extension": ".py",
   "mimetype": "text/x-python",
   "name": "python",
   "nbconvert_exporter": "python",
   "pygments_lexer": "ipython3",
   "version": "3.9.16"
  },
  "orig_nbformat": 4,
  "vscode": {
   "interpreter": {
    "hash": "0dd3da82233e8cafb725c469edcef8587c55bc7f5a521700605021d148f8b609"
   }
  }
 },
 "nbformat": 4,
 "nbformat_minor": 2
}
